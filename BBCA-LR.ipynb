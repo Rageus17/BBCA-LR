{
 "cells": [
  {
   "cell_type": "code",
   "execution_count": 291,
   "id": "79a3ece5",
   "metadata": {},
   "outputs": [],
   "source": [
    "import datetime as dt\n",
    "import pandas as pd\n",
    "from pandas_datareader import data as pdr\n",
    "import yfinance as yf\n",
    "import numpy as np\n",
    "import matplotlib.pyplot as plt\n",
    "from arch import arch_model\n",
    "import pandas_ta as ta"
   ]
  },
  {
   "cell_type": "markdown",
   "id": "1339a24f",
   "metadata": {},
   "source": [
    "## Load SRTG.JK data with yfinance"
   ]
  },
  {
   "cell_type": "code",
   "execution_count": 292,
   "id": "8ee0c060",
   "metadata": {},
   "outputs": [
    {
     "name": "stdout",
     "output_type": "stream",
     "text": [
      "[*********************100%***********************]  1 of 1 completed\n"
     ]
    }
   ],
   "source": [
    "yf.pdr_override()\n",
    "df = pdr.get_data_yahoo([\"BBCA.JK\"])"
   ]
  },
  {
   "cell_type": "code",
   "execution_count": 293,
   "id": "62daf589",
   "metadata": {},
   "outputs": [
    {
     "name": "stderr",
     "output_type": "stream",
     "text": [
      "131it [00:05, 26.19it/s]\n"
     ]
    }
   ],
   "source": [
    "df.ta.strategy()"
   ]
  },
  {
   "cell_type": "code",
   "execution_count": 294,
   "id": "c74a7f5d",
   "metadata": {},
   "outputs": [
    {
     "data": {
      "text/plain": [
       "Index(['Open', 'High', 'Low', 'Close', 'Adj Close', 'Volume', 'ABER_ZG_5_15',\n",
       "       'ABER_SG_5_15', 'ABER_XG_5_15', 'ABER_ATR_5_15',\n",
       "       ...\n",
       "       'VIDYA_14', 'VTXP_14', 'VTXM_14', 'VWAP_D', 'VWMA_10', 'WCP',\n",
       "       'WILLR_14', 'WMA_10', 'ZL_EMA_10', 'ZS_30'],\n",
       "      dtype='object', length=224)"
      ]
     },
     "execution_count": 294,
     "metadata": {},
     "output_type": "execute_result"
    }
   ],
   "source": [
    "df.columns"
   ]
  },
  {
   "cell_type": "code",
   "execution_count": 295,
   "id": "2a2e0b31",
   "metadata": {},
   "outputs": [
    {
     "data": {
      "text/html": [
       "<div>\n",
       "<style scoped>\n",
       "    .dataframe tbody tr th:only-of-type {\n",
       "        vertical-align: middle;\n",
       "    }\n",
       "\n",
       "    .dataframe tbody tr th {\n",
       "        vertical-align: top;\n",
       "    }\n",
       "\n",
       "    .dataframe thead th {\n",
       "        text-align: right;\n",
       "    }\n",
       "</style>\n",
       "<table border=\"1\" class=\"dataframe\">\n",
       "  <thead>\n",
       "    <tr style=\"text-align: right;\">\n",
       "      <th></th>\n",
       "      <th>Open</th>\n",
       "      <th>High</th>\n",
       "      <th>Low</th>\n",
       "      <th>Close</th>\n",
       "      <th>Adj Close</th>\n",
       "      <th>Volume</th>\n",
       "      <th>ABER_ZG_5_15</th>\n",
       "      <th>ABER_SG_5_15</th>\n",
       "      <th>ABER_XG_5_15</th>\n",
       "      <th>ABER_ATR_5_15</th>\n",
       "      <th>...</th>\n",
       "      <th>VIDYA_14</th>\n",
       "      <th>VTXP_14</th>\n",
       "      <th>VTXM_14</th>\n",
       "      <th>VWAP_D</th>\n",
       "      <th>VWMA_10</th>\n",
       "      <th>WCP</th>\n",
       "      <th>WILLR_14</th>\n",
       "      <th>WMA_10</th>\n",
       "      <th>ZL_EMA_10</th>\n",
       "      <th>ZS_30</th>\n",
       "    </tr>\n",
       "    <tr>\n",
       "      <th>Date</th>\n",
       "      <th></th>\n",
       "      <th></th>\n",
       "      <th></th>\n",
       "      <th></th>\n",
       "      <th></th>\n",
       "      <th></th>\n",
       "      <th></th>\n",
       "      <th></th>\n",
       "      <th></th>\n",
       "      <th></th>\n",
       "      <th></th>\n",
       "      <th></th>\n",
       "      <th></th>\n",
       "      <th></th>\n",
       "      <th></th>\n",
       "      <th></th>\n",
       "      <th></th>\n",
       "      <th></th>\n",
       "      <th></th>\n",
       "      <th></th>\n",
       "      <th></th>\n",
       "    </tr>\n",
       "  </thead>\n",
       "  <tbody>\n",
       "    <tr>\n",
       "      <th>2004-06-08</th>\n",
       "      <td>175.0</td>\n",
       "      <td>180.0</td>\n",
       "      <td>175.0</td>\n",
       "      <td>177.5</td>\n",
       "      <td>103.276199</td>\n",
       "      <td>499150000</td>\n",
       "      <td>NaN</td>\n",
       "      <td>NaN</td>\n",
       "      <td>NaN</td>\n",
       "      <td>NaN</td>\n",
       "      <td>...</td>\n",
       "      <td>NaN</td>\n",
       "      <td>NaN</td>\n",
       "      <td>NaN</td>\n",
       "      <td>177.500000</td>\n",
       "      <td>NaN</td>\n",
       "      <td>177.500</td>\n",
       "      <td>NaN</td>\n",
       "      <td>NaN</td>\n",
       "      <td>NaN</td>\n",
       "      <td>NaN</td>\n",
       "    </tr>\n",
       "    <tr>\n",
       "      <th>2004-06-09</th>\n",
       "      <td>177.5</td>\n",
       "      <td>182.5</td>\n",
       "      <td>175.0</td>\n",
       "      <td>180.0</td>\n",
       "      <td>104.730804</td>\n",
       "      <td>294290000</td>\n",
       "      <td>NaN</td>\n",
       "      <td>NaN</td>\n",
       "      <td>NaN</td>\n",
       "      <td>NaN</td>\n",
       "      <td>...</td>\n",
       "      <td>NaN</td>\n",
       "      <td>NaN</td>\n",
       "      <td>NaN</td>\n",
       "      <td>179.166667</td>\n",
       "      <td>NaN</td>\n",
       "      <td>179.375</td>\n",
       "      <td>NaN</td>\n",
       "      <td>NaN</td>\n",
       "      <td>NaN</td>\n",
       "      <td>NaN</td>\n",
       "    </tr>\n",
       "    <tr>\n",
       "      <th>2004-06-10</th>\n",
       "      <td>180.0</td>\n",
       "      <td>180.0</td>\n",
       "      <td>177.5</td>\n",
       "      <td>180.0</td>\n",
       "      <td>104.730804</td>\n",
       "      <td>165590000</td>\n",
       "      <td>NaN</td>\n",
       "      <td>NaN</td>\n",
       "      <td>NaN</td>\n",
       "      <td>NaN</td>\n",
       "      <td>...</td>\n",
       "      <td>NaN</td>\n",
       "      <td>NaN</td>\n",
       "      <td>NaN</td>\n",
       "      <td>179.166667</td>\n",
       "      <td>NaN</td>\n",
       "      <td>179.375</td>\n",
       "      <td>NaN</td>\n",
       "      <td>NaN</td>\n",
       "      <td>NaN</td>\n",
       "      <td>NaN</td>\n",
       "    </tr>\n",
       "    <tr>\n",
       "      <th>2004-06-11</th>\n",
       "      <td>177.5</td>\n",
       "      <td>180.0</td>\n",
       "      <td>177.5</td>\n",
       "      <td>180.0</td>\n",
       "      <td>104.730804</td>\n",
       "      <td>135830000</td>\n",
       "      <td>NaN</td>\n",
       "      <td>NaN</td>\n",
       "      <td>NaN</td>\n",
       "      <td>NaN</td>\n",
       "      <td>...</td>\n",
       "      <td>NaN</td>\n",
       "      <td>NaN</td>\n",
       "      <td>NaN</td>\n",
       "      <td>179.166667</td>\n",
       "      <td>NaN</td>\n",
       "      <td>179.375</td>\n",
       "      <td>NaN</td>\n",
       "      <td>NaN</td>\n",
       "      <td>NaN</td>\n",
       "      <td>NaN</td>\n",
       "    </tr>\n",
       "    <tr>\n",
       "      <th>2004-06-14</th>\n",
       "      <td>180.0</td>\n",
       "      <td>180.0</td>\n",
       "      <td>175.0</td>\n",
       "      <td>177.5</td>\n",
       "      <td>103.276199</td>\n",
       "      <td>158540000</td>\n",
       "      <td>178.500000</td>\n",
       "      <td>NaN</td>\n",
       "      <td>NaN</td>\n",
       "      <td>NaN</td>\n",
       "      <td>...</td>\n",
       "      <td>NaN</td>\n",
       "      <td>NaN</td>\n",
       "      <td>NaN</td>\n",
       "      <td>177.500000</td>\n",
       "      <td>NaN</td>\n",
       "      <td>177.500</td>\n",
       "      <td>NaN</td>\n",
       "      <td>NaN</td>\n",
       "      <td>NaN</td>\n",
       "      <td>NaN</td>\n",
       "    </tr>\n",
       "    <tr>\n",
       "      <th>...</th>\n",
       "      <td>...</td>\n",
       "      <td>...</td>\n",
       "      <td>...</td>\n",
       "      <td>...</td>\n",
       "      <td>...</td>\n",
       "      <td>...</td>\n",
       "      <td>...</td>\n",
       "      <td>...</td>\n",
       "      <td>...</td>\n",
       "      <td>...</td>\n",
       "      <td>...</td>\n",
       "      <td>...</td>\n",
       "      <td>...</td>\n",
       "      <td>...</td>\n",
       "      <td>...</td>\n",
       "      <td>...</td>\n",
       "      <td>...</td>\n",
       "      <td>...</td>\n",
       "      <td>...</td>\n",
       "      <td>...</td>\n",
       "      <td>...</td>\n",
       "    </tr>\n",
       "    <tr>\n",
       "      <th>2024-03-22</th>\n",
       "      <td>10000.0</td>\n",
       "      <td>10125.0</td>\n",
       "      <td>9950.0</td>\n",
       "      <td>10100.0</td>\n",
       "      <td>9872.500000</td>\n",
       "      <td>91968200</td>\n",
       "      <td>10138.333333</td>\n",
       "      <td>10309.266996</td>\n",
       "      <td>9967.399671</td>\n",
       "      <td>170.933662</td>\n",
       "      <td>...</td>\n",
       "      <td>9735.896909</td>\n",
       "      <td>0.981132</td>\n",
       "      <td>0.896226</td>\n",
       "      <td>10058.333333</td>\n",
       "      <td>10137.930135</td>\n",
       "      <td>10068.750</td>\n",
       "      <td>-46.153846</td>\n",
       "      <td>10140.454545</td>\n",
       "      <td>10131.924363</td>\n",
       "      <td>0.896703</td>\n",
       "    </tr>\n",
       "    <tr>\n",
       "      <th>2024-03-25</th>\n",
       "      <td>10075.0</td>\n",
       "      <td>10075.0</td>\n",
       "      <td>9925.0</td>\n",
       "      <td>10075.0</td>\n",
       "      <td>10075.000000</td>\n",
       "      <td>66971000</td>\n",
       "      <td>10105.000000</td>\n",
       "      <td>10276.204751</td>\n",
       "      <td>9933.795249</td>\n",
       "      <td>171.204751</td>\n",
       "      <td>...</td>\n",
       "      <td>9744.939658</td>\n",
       "      <td>0.981481</td>\n",
       "      <td>0.879630</td>\n",
       "      <td>10025.000000</td>\n",
       "      <td>10135.075964</td>\n",
       "      <td>10037.500</td>\n",
       "      <td>-50.000000</td>\n",
       "      <td>10128.181818</td>\n",
       "      <td>10103.392660</td>\n",
       "      <td>0.713956</td>\n",
       "    </tr>\n",
       "    <tr>\n",
       "      <th>2024-03-26</th>\n",
       "      <td>10050.0</td>\n",
       "      <td>10050.0</td>\n",
       "      <td>9950.0</td>\n",
       "      <td>10050.0</td>\n",
       "      <td>10050.000000</td>\n",
       "      <td>65742700</td>\n",
       "      <td>10070.000000</td>\n",
       "      <td>10238.124435</td>\n",
       "      <td>9901.875565</td>\n",
       "      <td>168.124435</td>\n",
       "      <td>...</td>\n",
       "      <td>9755.108336</td>\n",
       "      <td>1.000000</td>\n",
       "      <td>0.845455</td>\n",
       "      <td>10016.666667</td>\n",
       "      <td>10127.232422</td>\n",
       "      <td>10025.000</td>\n",
       "      <td>-56.000000</td>\n",
       "      <td>10112.272727</td>\n",
       "      <td>10080.048540</td>\n",
       "      <td>0.517269</td>\n",
       "    </tr>\n",
       "    <tr>\n",
       "      <th>2024-03-27</th>\n",
       "      <td>10025.0</td>\n",
       "      <td>10075.0</td>\n",
       "      <td>10000.0</td>\n",
       "      <td>10075.0</td>\n",
       "      <td>10075.000000</td>\n",
       "      <td>39514100</td>\n",
       "      <td>10056.666667</td>\n",
       "      <td>10218.582806</td>\n",
       "      <td>9894.750528</td>\n",
       "      <td>161.916139</td>\n",
       "      <td>...</td>\n",
       "      <td>9765.090771</td>\n",
       "      <td>1.018692</td>\n",
       "      <td>0.869159</td>\n",
       "      <td>10050.000000</td>\n",
       "      <td>10147.100464</td>\n",
       "      <td>10056.250</td>\n",
       "      <td>-52.000000</td>\n",
       "      <td>10102.727273</td>\n",
       "      <td>10070.039715</td>\n",
       "      <td>0.623613</td>\n",
       "    </tr>\n",
       "    <tr>\n",
       "      <th>2024-03-28</th>\n",
       "      <td>10025.0</td>\n",
       "      <td>10100.0</td>\n",
       "      <td>9975.0</td>\n",
       "      <td>10075.0</td>\n",
       "      <td>10075.000000</td>\n",
       "      <td>79229700</td>\n",
       "      <td>10040.000000</td>\n",
       "      <td>10199.455063</td>\n",
       "      <td>9880.544937</td>\n",
       "      <td>159.455063</td>\n",
       "      <td>...</td>\n",
       "      <td>9770.129945</td>\n",
       "      <td>1.009709</td>\n",
       "      <td>0.893204</td>\n",
       "      <td>10050.000000</td>\n",
       "      <td>10114.178487</td>\n",
       "      <td>10056.250</td>\n",
       "      <td>-68.421053</td>\n",
       "      <td>10091.818182</td>\n",
       "      <td>10066.396130</td>\n",
       "      <td>0.574603</td>\n",
       "    </tr>\n",
       "  </tbody>\n",
       "</table>\n",
       "<p>4907 rows × 224 columns</p>\n",
       "</div>"
      ],
      "text/plain": [
       "               Open     High      Low    Close     Adj Close     Volume  \\\n",
       "Date                                                                      \n",
       "2004-06-08    175.0    180.0    175.0    177.5    103.276199  499150000   \n",
       "2004-06-09    177.5    182.5    175.0    180.0    104.730804  294290000   \n",
       "2004-06-10    180.0    180.0    177.5    180.0    104.730804  165590000   \n",
       "2004-06-11    177.5    180.0    177.5    180.0    104.730804  135830000   \n",
       "2004-06-14    180.0    180.0    175.0    177.5    103.276199  158540000   \n",
       "...             ...      ...      ...      ...           ...        ...   \n",
       "2024-03-22  10000.0  10125.0   9950.0  10100.0   9872.500000   91968200   \n",
       "2024-03-25  10075.0  10075.0   9925.0  10075.0  10075.000000   66971000   \n",
       "2024-03-26  10050.0  10050.0   9950.0  10050.0  10050.000000   65742700   \n",
       "2024-03-27  10025.0  10075.0  10000.0  10075.0  10075.000000   39514100   \n",
       "2024-03-28  10025.0  10100.0   9975.0  10075.0  10075.000000   79229700   \n",
       "\n",
       "            ABER_ZG_5_15  ABER_SG_5_15  ABER_XG_5_15  ABER_ATR_5_15  ...  \\\n",
       "Date                                                                 ...   \n",
       "2004-06-08           NaN           NaN           NaN            NaN  ...   \n",
       "2004-06-09           NaN           NaN           NaN            NaN  ...   \n",
       "2004-06-10           NaN           NaN           NaN            NaN  ...   \n",
       "2004-06-11           NaN           NaN           NaN            NaN  ...   \n",
       "2004-06-14    178.500000           NaN           NaN            NaN  ...   \n",
       "...                  ...           ...           ...            ...  ...   \n",
       "2024-03-22  10138.333333  10309.266996   9967.399671     170.933662  ...   \n",
       "2024-03-25  10105.000000  10276.204751   9933.795249     171.204751  ...   \n",
       "2024-03-26  10070.000000  10238.124435   9901.875565     168.124435  ...   \n",
       "2024-03-27  10056.666667  10218.582806   9894.750528     161.916139  ...   \n",
       "2024-03-28  10040.000000  10199.455063   9880.544937     159.455063  ...   \n",
       "\n",
       "               VIDYA_14   VTXP_14   VTXM_14        VWAP_D       VWMA_10  \\\n",
       "Date                                                                      \n",
       "2004-06-08          NaN       NaN       NaN    177.500000           NaN   \n",
       "2004-06-09          NaN       NaN       NaN    179.166667           NaN   \n",
       "2004-06-10          NaN       NaN       NaN    179.166667           NaN   \n",
       "2004-06-11          NaN       NaN       NaN    179.166667           NaN   \n",
       "2004-06-14          NaN       NaN       NaN    177.500000           NaN   \n",
       "...                 ...       ...       ...           ...           ...   \n",
       "2024-03-22  9735.896909  0.981132  0.896226  10058.333333  10137.930135   \n",
       "2024-03-25  9744.939658  0.981481  0.879630  10025.000000  10135.075964   \n",
       "2024-03-26  9755.108336  1.000000  0.845455  10016.666667  10127.232422   \n",
       "2024-03-27  9765.090771  1.018692  0.869159  10050.000000  10147.100464   \n",
       "2024-03-28  9770.129945  1.009709  0.893204  10050.000000  10114.178487   \n",
       "\n",
       "                  WCP   WILLR_14        WMA_10     ZL_EMA_10     ZS_30  \n",
       "Date                                                                    \n",
       "2004-06-08    177.500        NaN           NaN           NaN       NaN  \n",
       "2004-06-09    179.375        NaN           NaN           NaN       NaN  \n",
       "2004-06-10    179.375        NaN           NaN           NaN       NaN  \n",
       "2004-06-11    179.375        NaN           NaN           NaN       NaN  \n",
       "2004-06-14    177.500        NaN           NaN           NaN       NaN  \n",
       "...               ...        ...           ...           ...       ...  \n",
       "2024-03-22  10068.750 -46.153846  10140.454545  10131.924363  0.896703  \n",
       "2024-03-25  10037.500 -50.000000  10128.181818  10103.392660  0.713956  \n",
       "2024-03-26  10025.000 -56.000000  10112.272727  10080.048540  0.517269  \n",
       "2024-03-27  10056.250 -52.000000  10102.727273  10070.039715  0.623613  \n",
       "2024-03-28  10056.250 -68.421053  10091.818182  10066.396130  0.574603  \n",
       "\n",
       "[4907 rows x 224 columns]"
      ]
     },
     "execution_count": 295,
     "metadata": {},
     "output_type": "execute_result"
    }
   ],
   "source": [
    "df"
   ]
  },
  {
   "cell_type": "code",
   "execution_count": 296,
   "id": "e6e7a369",
   "metadata": {},
   "outputs": [],
   "source": [
    "from sklearn.feature_selection import SequentialFeatureSelector\n",
    "from sklearn.linear_model import LinearRegression\n",
    "from sklearn.neural_network import MLPRegressor\n",
    "from sklearn.datasets import make_regression\n",
    "from sklearn.model_selection import train_test_split"
   ]
  },
  {
   "cell_type": "code",
   "execution_count": 297,
   "id": "33afe60d",
   "metadata": {},
   "outputs": [],
   "source": [
    "df = df.dropna(axis=1)\n",
    "df = df.drop(['Open','High','Low','Adj Close'],axis=1)"
   ]
  },
  {
   "cell_type": "code",
   "execution_count": 298,
   "id": "5555fbe3",
   "metadata": {},
   "outputs": [],
   "source": [
    "feature_train = df.loc[\"2020-1-1\":\"2022-12-31\"]"
   ]
  },
  {
   "cell_type": "code",
   "execution_count": 299,
   "id": "e67fa4f4",
   "metadata": {},
   "outputs": [],
   "source": [
    "from sklearn.preprocessing import MinMaxScaler\n",
    "\n",
    "\n",
    "feature_train_X = feature_train.iloc[:-1,1:]\n",
    "feature_train_X = feature_train_X.select_dtypes(include=['float'])\n",
    "# scaler_X = MinMaxScaler().fit(feature_train_X)\n",
    "# X_train = scaler_X.transform(feature_train_X)\n",
    "# scaled_X = pd.DataFrame(X_train,columns = feature_train_X.columns,index=feature_train_X.index)\n",
    "# scaled_X"
   ]
  },
  {
   "cell_type": "code",
   "execution_count": 300,
   "id": "bb1becf4",
   "metadata": {},
   "outputs": [],
   "source": [
    "feature_train_Y = feature_train.Close.iloc[1:]"
   ]
  },
  {
   "cell_type": "code",
   "execution_count": 301,
   "id": "bdda1bdb",
   "metadata": {
    "scrolled": true
   },
   "outputs": [
    {
     "data": {
      "text/html": [
       "<style>#sk-container-id-8 {color: black;}#sk-container-id-8 pre{padding: 0;}#sk-container-id-8 div.sk-toggleable {background-color: white;}#sk-container-id-8 label.sk-toggleable__label {cursor: pointer;display: block;width: 100%;margin-bottom: 0;padding: 0.3em;box-sizing: border-box;text-align: center;}#sk-container-id-8 label.sk-toggleable__label-arrow:before {content: \"▸\";float: left;margin-right: 0.25em;color: #696969;}#sk-container-id-8 label.sk-toggleable__label-arrow:hover:before {color: black;}#sk-container-id-8 div.sk-estimator:hover label.sk-toggleable__label-arrow:before {color: black;}#sk-container-id-8 div.sk-toggleable__content {max-height: 0;max-width: 0;overflow: hidden;text-align: left;background-color: #f0f8ff;}#sk-container-id-8 div.sk-toggleable__content pre {margin: 0.2em;color: black;border-radius: 0.25em;background-color: #f0f8ff;}#sk-container-id-8 input.sk-toggleable__control:checked~div.sk-toggleable__content {max-height: 200px;max-width: 100%;overflow: auto;}#sk-container-id-8 input.sk-toggleable__control:checked~label.sk-toggleable__label-arrow:before {content: \"▾\";}#sk-container-id-8 div.sk-estimator input.sk-toggleable__control:checked~label.sk-toggleable__label {background-color: #d4ebff;}#sk-container-id-8 div.sk-label input.sk-toggleable__control:checked~label.sk-toggleable__label {background-color: #d4ebff;}#sk-container-id-8 input.sk-hidden--visually {border: 0;clip: rect(1px 1px 1px 1px);clip: rect(1px, 1px, 1px, 1px);height: 1px;margin: -1px;overflow: hidden;padding: 0;position: absolute;width: 1px;}#sk-container-id-8 div.sk-estimator {font-family: monospace;background-color: #f0f8ff;border: 1px dotted black;border-radius: 0.25em;box-sizing: border-box;margin-bottom: 0.5em;}#sk-container-id-8 div.sk-estimator:hover {background-color: #d4ebff;}#sk-container-id-8 div.sk-parallel-item::after {content: \"\";width: 100%;border-bottom: 1px solid gray;flex-grow: 1;}#sk-container-id-8 div.sk-label:hover label.sk-toggleable__label {background-color: #d4ebff;}#sk-container-id-8 div.sk-serial::before {content: \"\";position: absolute;border-left: 1px solid gray;box-sizing: border-box;top: 0;bottom: 0;left: 50%;z-index: 0;}#sk-container-id-8 div.sk-serial {display: flex;flex-direction: column;align-items: center;background-color: white;padding-right: 0.2em;padding-left: 0.2em;position: relative;}#sk-container-id-8 div.sk-item {position: relative;z-index: 1;}#sk-container-id-8 div.sk-parallel {display: flex;align-items: stretch;justify-content: center;background-color: white;position: relative;}#sk-container-id-8 div.sk-item::before, #sk-container-id-8 div.sk-parallel-item::before {content: \"\";position: absolute;border-left: 1px solid gray;box-sizing: border-box;top: 0;bottom: 0;left: 50%;z-index: -1;}#sk-container-id-8 div.sk-parallel-item {display: flex;flex-direction: column;z-index: 1;position: relative;background-color: white;}#sk-container-id-8 div.sk-parallel-item:first-child::after {align-self: flex-end;width: 50%;}#sk-container-id-8 div.sk-parallel-item:last-child::after {align-self: flex-start;width: 50%;}#sk-container-id-8 div.sk-parallel-item:only-child::after {width: 0;}#sk-container-id-8 div.sk-dashed-wrapped {border: 1px dashed gray;margin: 0 0.4em 0.5em 0.4em;box-sizing: border-box;padding-bottom: 0.4em;background-color: white;}#sk-container-id-8 div.sk-label label {font-family: monospace;font-weight: bold;display: inline-block;line-height: 1.2em;}#sk-container-id-8 div.sk-label-container {text-align: center;}#sk-container-id-8 div.sk-container {/* jupyter's `normalize.less` sets `[hidden] { display: none; }` but bootstrap.min.css set `[hidden] { display: none !important; }` so we also need the `!important` here to be able to override the default hidden behavior on the sphinx rendered scikit-learn.org. See: https://github.com/scikit-learn/scikit-learn/issues/21755 */display: inline-block !important;position: relative;}#sk-container-id-8 div.sk-text-repr-fallback {display: none;}</style><div id=\"sk-container-id-8\" class=\"sk-top-container\"><div class=\"sk-text-repr-fallback\"><pre>SequentialFeatureSelector(estimator=LinearRegression())</pre><b>In a Jupyter environment, please rerun this cell to show the HTML representation or trust the notebook. <br />On GitHub, the HTML representation is unable to render, please try loading this page with nbviewer.org.</b></div><div class=\"sk-container\" hidden><div class=\"sk-item sk-dashed-wrapped\"><div class=\"sk-label-container\"><div class=\"sk-label sk-toggleable\"><input class=\"sk-toggleable__control sk-hidden--visually\" id=\"sk-estimator-id-22\" type=\"checkbox\" ><label for=\"sk-estimator-id-22\" class=\"sk-toggleable__label sk-toggleable__label-arrow\">SequentialFeatureSelector</label><div class=\"sk-toggleable__content\"><pre>SequentialFeatureSelector(estimator=LinearRegression())</pre></div></div></div><div class=\"sk-parallel\"><div class=\"sk-parallel-item\"><div class=\"sk-item\"><div class=\"sk-label-container\"><div class=\"sk-label sk-toggleable\"><input class=\"sk-toggleable__control sk-hidden--visually\" id=\"sk-estimator-id-23\" type=\"checkbox\" ><label for=\"sk-estimator-id-23\" class=\"sk-toggleable__label sk-toggleable__label-arrow\">estimator: LinearRegression</label><div class=\"sk-toggleable__content\"><pre>LinearRegression()</pre></div></div></div><div class=\"sk-serial\"><div class=\"sk-item\"><div class=\"sk-estimator sk-toggleable\"><input class=\"sk-toggleable__control sk-hidden--visually\" id=\"sk-estimator-id-24\" type=\"checkbox\" ><label for=\"sk-estimator-id-24\" class=\"sk-toggleable__label sk-toggleable__label-arrow\">LinearRegression</label><div class=\"sk-toggleable__content\"><pre>LinearRegression()</pre></div></div></div></div></div></div></div></div></div></div>"
      ],
      "text/plain": [
       "SequentialFeatureSelector(estimator=LinearRegression())"
      ]
     },
     "execution_count": 301,
     "metadata": {},
     "output_type": "execute_result"
    }
   ],
   "source": [
    "lr = LinearRegression(copy_X= True, fit_intercept = True, n_jobs= None, positive=False)\n",
    "sfs = SequentialFeatureSelector(lr)\n",
    "X = feature_train_X\n",
    "y = feature_train_Y\n",
    "\n",
    "sfs.fit(X,y)"
   ]
  },
  {
   "cell_type": "code",
   "execution_count": 302,
   "id": "d7d532d2",
   "metadata": {},
   "outputs": [
    {
     "name": "stdout",
     "output_type": "stream",
     "text": [
      "Selected Features: [ 3  4  7  8  9 17 18 21 24 25 26 27 28 29 30 32]\n"
     ]
    }
   ],
   "source": [
    "selected_features_mask = sfs.get_support()\n",
    "\n",
    "# Print the selected features\n",
    "selected_features = np.where(selected_features_mask)[0]\n",
    "print(\"Selected Features:\", selected_features)"
   ]
  },
  {
   "cell_type": "code",
   "execution_count": 303,
   "id": "33a89391",
   "metadata": {},
   "outputs": [],
   "source": [
    "X_train_selected = sfs.transform(feature_train_X)"
   ]
  },
  {
   "cell_type": "code",
   "execution_count": 304,
   "id": "e6fce424",
   "metadata": {
    "scrolled": true
   },
   "outputs": [],
   "source": [
    "reg = lr.fit(X_train_selected,feature_train_Y)"
   ]
  },
  {
   "cell_type": "code",
   "execution_count": 305,
   "id": "5d83f11f",
   "metadata": {},
   "outputs": [],
   "source": [
    "# print(\"intercept : \",reg.intercept_)\n",
    "# for i in range(len(reg.coef_)):\n",
    "#      print(reg.feature_names_in_[i],\":\",reg.coef_[i])"
   ]
  },
  {
   "cell_type": "code",
   "execution_count": 306,
   "id": "277f975e",
   "metadata": {
    "scrolled": true
   },
   "outputs": [
    {
     "name": "stdout",
     "output_type": "stream",
     "text": [
      "(16,)\n"
     ]
    }
   ],
   "source": [
    "print(reg.coef_.shape)"
   ]
  },
  {
   "cell_type": "markdown",
   "id": "ee91998d",
   "metadata": {},
   "source": [
    "# Test df"
   ]
  },
  {
   "cell_type": "code",
   "execution_count": 307,
   "id": "a6a3b6a3",
   "metadata": {},
   "outputs": [],
   "source": [
    "X_test = df.loc[\"2023-1-1\":].iloc[:,1:]\n",
    "X_test = X_test.select_dtypes(include=['float'])\n",
    "# X_test1 = scaler_X.transform(X_test)\n",
    "# scaled_Xtest = pd.DataFrame(X_test1,columns = X_test.columns,index=X_test.index)\n",
    "# scaled_Xtest"
   ]
  },
  {
   "cell_type": "code",
   "execution_count": 308,
   "id": "ab53093f",
   "metadata": {},
   "outputs": [],
   "source": [
    "y_test = df.loc[\"2023-1-1\":].Close.iloc[1:]\n",
    "# y_test1 = y_test.values.reshape(-1,1)\n",
    "\n",
    "# Y_test = scaler_Y.transform(y_test1)\n",
    "# scaled_Y = pd.DataFrame(Y_test,index=y_test.index,columns=['scaled_Y'])\n",
    "# scaled_Y"
   ]
  },
  {
   "cell_type": "code",
   "execution_count": 309,
   "id": "b28df694",
   "metadata": {},
   "outputs": [
    {
     "name": "stderr",
     "output_type": "stream",
     "text": [
      "C:\\Users\\User\\anaconda3\\Lib\\site-packages\\sklearn\\base.py:464: UserWarning: X does not have valid feature names, but SequentialFeatureSelector was fitted with feature names\n",
      "  warnings.warn(\n"
     ]
    }
   ],
   "source": [
    "X_test_selected = sfs.transform(X_test.values)"
   ]
  },
  {
   "cell_type": "code",
   "execution_count": 310,
   "id": "3169b6a1",
   "metadata": {},
   "outputs": [
    {
     "data": {
      "text/plain": [
       "Date\n",
       "2023-01-03     8550.0\n",
       "2023-01-04     8350.0\n",
       "2023-01-05     8250.0\n",
       "2023-01-06     8300.0\n",
       "2023-01-09     8450.0\n",
       "               ...   \n",
       "2024-03-22    10100.0\n",
       "2024-03-25    10075.0\n",
       "2024-03-26    10050.0\n",
       "2024-03-27    10075.0\n",
       "2024-03-28    10075.0\n",
       "Name: Close, Length: 296, dtype: float64"
      ]
     },
     "execution_count": 310,
     "metadata": {},
     "output_type": "execute_result"
    }
   ],
   "source": [
    "y_test"
   ]
  },
  {
   "cell_type": "code",
   "execution_count": 311,
   "id": "5e854add",
   "metadata": {},
   "outputs": [
    {
     "data": {
      "text/plain": [
       "297"
      ]
     },
     "execution_count": 311,
     "metadata": {},
     "output_type": "execute_result"
    }
   ],
   "source": [
    "from sklearn.metrics import mean_squared_error\n",
    "import sklearn.metrics as metricsk\n",
    "y_pred = reg.predict(X_test_selected)\n",
    "ypred_index = []\n",
    "for i in range(1,len(X_test.index)):\n",
    "    ypred_index.append(X_test.index[i])\n",
    "\n",
    "#ypred_index = ypred_index.append(ypred_index[-1]+dt.timedelta(1))\n",
    "# for i in X_test.index:\n",
    "#     if i.day_name() == \"Friday\":\n",
    "#         ypred_index.append(i+ pd.DateOffset(days=3))\n",
    "#     else:\n",
    "#         ypred_index.append(i+ pd.DateOffset(days=1))\n",
    "one_day = ypred_index[-1]+dt.timedelta(1)\n",
    "ypred_index = np.append(ypred_index,one_day)\n",
    "len(ypred_index)"
   ]
  },
  {
   "cell_type": "code",
   "execution_count": 312,
   "id": "47137c59",
   "metadata": {},
   "outputs": [],
   "source": [
    "# y_pred = model1.inverse_transform(y_pred)\n",
    "# ypred_flatten = y_pred.flatten()"
   ]
  },
  {
   "cell_type": "code",
   "execution_count": 328,
   "id": "abeecb35",
   "metadata": {},
   "outputs": [],
   "source": [
    "y_pred_df = pd.DataFrame({'y_pred': y_pred,\"y_real\":y_test}, index=ypred_index)  #X_test.index + pd.DateOffset(days=1))"
   ]
  },
  {
   "cell_type": "code",
   "execution_count": 329,
   "id": "712eaeb8",
   "metadata": {},
   "outputs": [
    {
     "data": {
      "text/html": [
       "<div>\n",
       "<style scoped>\n",
       "    .dataframe tbody tr th:only-of-type {\n",
       "        vertical-align: middle;\n",
       "    }\n",
       "\n",
       "    .dataframe tbody tr th {\n",
       "        vertical-align: top;\n",
       "    }\n",
       "\n",
       "    .dataframe thead th {\n",
       "        text-align: right;\n",
       "    }\n",
       "</style>\n",
       "<table border=\"1\" class=\"dataframe\">\n",
       "  <thead>\n",
       "    <tr style=\"text-align: right;\">\n",
       "      <th></th>\n",
       "      <th>y_pred</th>\n",
       "      <th>y_real</th>\n",
       "    </tr>\n",
       "  </thead>\n",
       "  <tbody>\n",
       "    <tr>\n",
       "      <th>2023-01-03</th>\n",
       "      <td>8542.0</td>\n",
       "      <td>8550.0</td>\n",
       "    </tr>\n",
       "    <tr>\n",
       "      <th>2023-01-04</th>\n",
       "      <td>8566.0</td>\n",
       "      <td>8350.0</td>\n",
       "    </tr>\n",
       "    <tr>\n",
       "      <th>2023-01-05</th>\n",
       "      <td>8374.0</td>\n",
       "      <td>8250.0</td>\n",
       "    </tr>\n",
       "    <tr>\n",
       "      <th>2023-01-06</th>\n",
       "      <td>8240.0</td>\n",
       "      <td>8300.0</td>\n",
       "    </tr>\n",
       "    <tr>\n",
       "      <th>2023-01-09</th>\n",
       "      <td>8302.0</td>\n",
       "      <td>8450.0</td>\n",
       "    </tr>\n",
       "    <tr>\n",
       "      <th>...</th>\n",
       "      <td>...</td>\n",
       "      <td>...</td>\n",
       "    </tr>\n",
       "    <tr>\n",
       "      <th>2024-03-25</th>\n",
       "      <td>10088.0</td>\n",
       "      <td>10075.0</td>\n",
       "    </tr>\n",
       "    <tr>\n",
       "      <th>2024-03-26</th>\n",
       "      <td>10048.0</td>\n",
       "      <td>10050.0</td>\n",
       "    </tr>\n",
       "    <tr>\n",
       "      <th>2024-03-27</th>\n",
       "      <td>10032.0</td>\n",
       "      <td>10075.0</td>\n",
       "    </tr>\n",
       "    <tr>\n",
       "      <th>2024-03-28</th>\n",
       "      <td>10060.0</td>\n",
       "      <td>10075.0</td>\n",
       "    </tr>\n",
       "    <tr>\n",
       "      <th>2024-03-29</th>\n",
       "      <td>10056.0</td>\n",
       "      <td>NaN</td>\n",
       "    </tr>\n",
       "  </tbody>\n",
       "</table>\n",
       "<p>297 rows × 2 columns</p>\n",
       "</div>"
      ],
      "text/plain": [
       "             y_pred   y_real\n",
       "2023-01-03   8542.0   8550.0\n",
       "2023-01-04   8566.0   8350.0\n",
       "2023-01-05   8374.0   8250.0\n",
       "2023-01-06   8240.0   8300.0\n",
       "2023-01-09   8302.0   8450.0\n",
       "...             ...      ...\n",
       "2024-03-25  10088.0  10075.0\n",
       "2024-03-26  10048.0  10050.0\n",
       "2024-03-27  10032.0  10075.0\n",
       "2024-03-28  10060.0  10075.0\n",
       "2024-03-29  10056.0      NaN\n",
       "\n",
       "[297 rows x 2 columns]"
      ]
     },
     "execution_count": 329,
     "metadata": {},
     "output_type": "execute_result"
    }
   ],
   "source": [
    "y_pred_df"
   ]
  },
  {
   "cell_type": "code",
   "execution_count": 330,
   "id": "d6a48bce",
   "metadata": {},
   "outputs": [
    {
     "name": "stdout",
     "output_type": "stream",
     "text": [
      "Mean Squared Error: 8936.131756756757\n",
      "mean absolute error: 71.00337837837837\n"
     ]
    }
   ],
   "source": [
    "# Evaluate the model\n",
    "mse = mean_squared_error(y_test, y_pred_df.iloc[:-1,0])\n",
    "print(\"Mean Squared Error:\", mse)\n",
    "mae = metricsk.mean_absolute_error(y_test,y_pred_df.iloc[:-1,0])\n",
    "print(\"mean absolute error:\",mae)"
   ]
  },
  {
   "cell_type": "markdown",
   "id": "a8793082",
   "metadata": {},
   "source": [
    "## Plotting the prediction result"
   ]
  },
  {
   "cell_type": "code",
   "execution_count": 331,
   "id": "71481832",
   "metadata": {},
   "outputs": [
    {
     "data": {
      "image/png": "[encoded data removed]",
      "text/plain": [
       "<Figure size 1500x1000 with 1 Axes>"
      ]
     },
     "metadata": {},
     "output_type": "display_data"
    }
   ],
   "source": [
    "plt.figure(figsize=(15,10))\n",
    "plt.plot(y_test,label='y_true')\n",
    "plt.plot(y_pred_df['y_pred'],color=\"r\",label='y_pred')\n",
    "plt.grid()\n",
    "plt.legend()\n",
    "plt.show()"
   ]
  },
  {
   "cell_type": "code",
   "execution_count": 332,
   "id": "040b0e09",
   "metadata": {},
   "outputs": [
    {
     "name": "stdout",
     "output_type": "stream",
     "text": [
      "2024-03-28 00:00:00 price is 10060.0 w/ range between 9988.996621621622 - 10131.003378378378\n"
     ]
    }
   ],
   "source": [
    "print(y_pred_df.index[-2],\"price is\",y_pred_df['y_pred'][-2],\"w/ range between\",y_pred_df['y_pred'][-2] - mae,\"-\",y_pred_df['y_pred'][-2] + mae)"
   ]
  },
  {
   "cell_type": "code",
   "execution_count": 333,
   "id": "46d25402",
   "metadata": {},
   "outputs": [
    {
     "name": "stdout",
     "output_type": "stream",
     "text": [
      "2024-03-29 00:00:00 price is 10056.0 w/ range between 9984.996621621622 - 10127.003378378378\n"
     ]
    }
   ],
   "source": [
    "print(y_pred_df.index[-1],\"price is\",y_pred_df['y_pred'][-1],\"w/ range between\",y_pred_df['y_pred'][-1] - mae,\"-\",y_pred_df['y_pred'][-1] + mae)"
   ]
  },
  {
   "cell_type": "code",
   "execution_count": 334,
   "id": "ef15b0c7",
   "metadata": {},
   "outputs": [
    {
     "data": {
      "text/html": [
       "<div>\n",
       "<style scoped>\n",
       "    .dataframe tbody tr th:only-of-type {\n",
       "        vertical-align: middle;\n",
       "    }\n",
       "\n",
       "    .dataframe tbody tr th {\n",
       "        vertical-align: top;\n",
       "    }\n",
       "\n",
       "    .dataframe thead th {\n",
       "        text-align: right;\n",
       "    }\n",
       "</style>\n",
       "<table border=\"1\" class=\"dataframe\">\n",
       "  <thead>\n",
       "    <tr style=\"text-align: right;\">\n",
       "      <th></th>\n",
       "      <th>y_pred</th>\n",
       "      <th>y_real</th>\n",
       "    </tr>\n",
       "  </thead>\n",
       "  <tbody>\n",
       "    <tr>\n",
       "      <th>2024-03-25</th>\n",
       "      <td>10088.0</td>\n",
       "      <td>10075.0</td>\n",
       "    </tr>\n",
       "    <tr>\n",
       "      <th>2024-03-26</th>\n",
       "      <td>10048.0</td>\n",
       "      <td>10050.0</td>\n",
       "    </tr>\n",
       "    <tr>\n",
       "      <th>2024-03-27</th>\n",
       "      <td>10032.0</td>\n",
       "      <td>10075.0</td>\n",
       "    </tr>\n",
       "    <tr>\n",
       "      <th>2024-03-28</th>\n",
       "      <td>10060.0</td>\n",
       "      <td>10075.0</td>\n",
       "    </tr>\n",
       "    <tr>\n",
       "      <th>2024-03-29</th>\n",
       "      <td>10056.0</td>\n",
       "      <td>NaN</td>\n",
       "    </tr>\n",
       "  </tbody>\n",
       "</table>\n",
       "</div>"
      ],
      "text/plain": [
       "             y_pred   y_real\n",
       "2024-03-25  10088.0  10075.0\n",
       "2024-03-26  10048.0  10050.0\n",
       "2024-03-27  10032.0  10075.0\n",
       "2024-03-28  10060.0  10075.0\n",
       "2024-03-29  10056.0      NaN"
      ]
     },
     "execution_count": 334,
     "metadata": {},
     "output_type": "execute_result"
    }
   ],
   "source": [
    "y_pred_df.tail(5)"
   ]
  },
  {
   "cell_type": "markdown",
   "id": "8a3c7903",
   "metadata": {},
   "source": [
    "# Upper Limit and Lower Limit Using MAE. mae1=74.76560729930566"
   ]
  },
  {
   "cell_type": "code",
   "execution_count": 335,
   "id": "e108cff4",
   "metadata": {},
   "outputs": [],
   "source": [
    "def round_to_multiple(number, multiple):\n",
    "    return multiple * round(number / multiple)"
   ]
  },
  {
   "cell_type": "code",
   "execution_count": 336,
   "id": "0d962437",
   "metadata": {},
   "outputs": [
    {
     "name": "stdout",
     "output_type": "stream",
     "text": [
      "10056.0\n",
      "71.00337837837837\n"
     ]
    }
   ],
   "source": [
    "print(y_pred_df['y_pred'][-1])\n",
    "print(mae)"
   ]
  },
  {
   "cell_type": "code",
   "execution_count": 337,
   "id": "c26878d0",
   "metadata": {},
   "outputs": [
    {
     "data": {
      "text/plain": [
       "10050"
      ]
     },
     "execution_count": 337,
     "metadata": {},
     "output_type": "execute_result"
    }
   ],
   "source": [
    "round_to_multiple(y_pred_df['y_pred'][-1],25)"
   ]
  },
  {
   "cell_type": "code",
   "execution_count": 338,
   "id": "dc2cf6a7",
   "metadata": {},
   "outputs": [
    {
     "name": "stdout",
     "output_type": "stream",
     "text": [
      "9984.996621621622\n",
      "9975\n"
     ]
    }
   ],
   "source": [
    "print(y_pred_df['y_pred'][-1] - mae)\n",
    "print(round_to_multiple(y_pred_df['y_pred'][-1] - mae,25))"
   ]
  },
  {
   "cell_type": "code",
   "execution_count": 339,
   "id": "5f86b2cd",
   "metadata": {
    "scrolled": true
   },
   "outputs": [
    {
     "name": "stdout",
     "output_type": "stream",
     "text": [
      "10127.003378378378\n",
      "10125\n"
     ]
    }
   ],
   "source": [
    "print(y_pred_df['y_pred'][-1] + mae)\n",
    "print(round_to_multiple(y_pred_df['y_pred'][-1] + mae,25))"
   ]
  },
  {
   "cell_type": "markdown",
   "id": "042d0050",
   "metadata": {},
   "source": [
    "## Residuals Check"
   ]
  },
  {
   "cell_type": "code",
   "execution_count": 340,
   "id": "307869dc",
   "metadata": {},
   "outputs": [
    {
     "data": {
      "text/html": [
       "<div>\n",
       "<style scoped>\n",
       "    .dataframe tbody tr th:only-of-type {\n",
       "        vertical-align: middle;\n",
       "    }\n",
       "\n",
       "    .dataframe tbody tr th {\n",
       "        vertical-align: top;\n",
       "    }\n",
       "\n",
       "    .dataframe thead th {\n",
       "        text-align: right;\n",
       "    }\n",
       "</style>\n",
       "<table border=\"1\" class=\"dataframe\">\n",
       "  <thead>\n",
       "    <tr style=\"text-align: right;\">\n",
       "      <th></th>\n",
       "      <th>y_pred</th>\n",
       "      <th>y_real</th>\n",
       "      <th>residuals</th>\n",
       "    </tr>\n",
       "  </thead>\n",
       "  <tbody>\n",
       "    <tr>\n",
       "      <th>2023-01-03</th>\n",
       "      <td>8542.0</td>\n",
       "      <td>8550.0</td>\n",
       "      <td>8.0</td>\n",
       "    </tr>\n",
       "    <tr>\n",
       "      <th>2023-01-04</th>\n",
       "      <td>8566.0</td>\n",
       "      <td>8350.0</td>\n",
       "      <td>-216.0</td>\n",
       "    </tr>\n",
       "    <tr>\n",
       "      <th>2023-01-05</th>\n",
       "      <td>8374.0</td>\n",
       "      <td>8250.0</td>\n",
       "      <td>-124.0</td>\n",
       "    </tr>\n",
       "    <tr>\n",
       "      <th>2023-01-06</th>\n",
       "      <td>8240.0</td>\n",
       "      <td>8300.0</td>\n",
       "      <td>60.0</td>\n",
       "    </tr>\n",
       "    <tr>\n",
       "      <th>2023-01-09</th>\n",
       "      <td>8302.0</td>\n",
       "      <td>8450.0</td>\n",
       "      <td>148.0</td>\n",
       "    </tr>\n",
       "    <tr>\n",
       "      <th>...</th>\n",
       "      <td>...</td>\n",
       "      <td>...</td>\n",
       "      <td>...</td>\n",
       "    </tr>\n",
       "    <tr>\n",
       "      <th>2024-03-22</th>\n",
       "      <td>10112.0</td>\n",
       "      <td>10100.0</td>\n",
       "      <td>-12.0</td>\n",
       "    </tr>\n",
       "    <tr>\n",
       "      <th>2024-03-25</th>\n",
       "      <td>10088.0</td>\n",
       "      <td>10075.0</td>\n",
       "      <td>-13.0</td>\n",
       "    </tr>\n",
       "    <tr>\n",
       "      <th>2024-03-26</th>\n",
       "      <td>10048.0</td>\n",
       "      <td>10050.0</td>\n",
       "      <td>2.0</td>\n",
       "    </tr>\n",
       "    <tr>\n",
       "      <th>2024-03-27</th>\n",
       "      <td>10032.0</td>\n",
       "      <td>10075.0</td>\n",
       "      <td>43.0</td>\n",
       "    </tr>\n",
       "    <tr>\n",
       "      <th>2024-03-28</th>\n",
       "      <td>10060.0</td>\n",
       "      <td>10075.0</td>\n",
       "      <td>15.0</td>\n",
       "    </tr>\n",
       "  </tbody>\n",
       "</table>\n",
       "<p>296 rows × 3 columns</p>\n",
       "</div>"
      ],
      "text/plain": [
       "             y_pred   y_real  residuals\n",
       "2023-01-03   8542.0   8550.0        8.0\n",
       "2023-01-04   8566.0   8350.0     -216.0\n",
       "2023-01-05   8374.0   8250.0     -124.0\n",
       "2023-01-06   8240.0   8300.0       60.0\n",
       "2023-01-09   8302.0   8450.0      148.0\n",
       "...             ...      ...        ...\n",
       "2024-03-22  10112.0  10100.0      -12.0\n",
       "2024-03-25  10088.0  10075.0      -13.0\n",
       "2024-03-26  10048.0  10050.0        2.0\n",
       "2024-03-27  10032.0  10075.0       43.0\n",
       "2024-03-28  10060.0  10075.0       15.0\n",
       "\n",
       "[296 rows x 3 columns]"
      ]
     },
     "execution_count": 340,
     "metadata": {},
     "output_type": "execute_result"
    }
   ],
   "source": [
    "y_pred_df['y_real'] = y_test\n",
    "y_pred_df['residuals'] = y_pred_df['y_real'] - y_pred_df['y_pred']\n",
    "y_pred_df[:-1]"
   ]
  },
  {
   "cell_type": "code",
   "execution_count": 341,
   "id": "714d9f20",
   "metadata": {},
   "outputs": [
    {
     "data": {
      "text/plain": [
       "(array([ 3., 12., 28., 78., 80., 51., 26., 10.,  5.,  3.]),\n",
       " array([-263. , -203.4, -143.8,  -84.2,  -24.6,   35. ,   94.6,  154.2,\n",
       "         213.8,  273.4,  333. ]),\n",
       " <BarContainer object of 10 artists>)"
      ]
     },
     "execution_count": 341,
     "metadata": {},
     "output_type": "execute_result"
    },
    {
     "data": {
      "image/png": "[encoded data removed]",
      "text/plain": [
       "<Figure size 640x480 with 1 Axes>"
      ]
     },
     "metadata": {},
     "output_type": "display_data"
    }
   ],
   "source": [
    "plt.hist(y_pred_df['residuals'])"
   ]
  },
  {
   "cell_type": "code",
   "execution_count": 342,
   "id": "fec9dfe5",
   "metadata": {
    "scrolled": true
   },
   "outputs": [
    {
     "data": {
      "text/plain": [
       "329.0"
      ]
     },
     "execution_count": 342,
     "metadata": {},
     "output_type": "execute_result"
    }
   ],
   "source": [
    "y_pred_df.residuals.sum()"
   ]
  }
 ],
 "metadata": {
  "kernelspec": {
   "display_name": "Python 3 (ipykernel)",
   "language": "python",
   "name": "python3"
  },
  "language_info": {
   "codemirror_mode": {
    "name": "ipython",
    "version": 3
   },
   "file_extension": ".py",
   "mimetype": "text/x-python",
   "name": "python",
   "nbconvert_exporter": "python",
   "pygments_lexer": "ipython3",
   "version": "3.11.4"
  }
 },
 "nbformat": 4,
 "nbformat_minor": 5
}
